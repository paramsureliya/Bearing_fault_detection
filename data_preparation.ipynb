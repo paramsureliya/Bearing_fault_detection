{
 "cells": [
  {
   "cell_type": "markdown",
   "source": [
    "# Importing Library\n"
   ],
   "metadata": {
    "collapsed": false
   },
   "id": "2884fe740d05d389"
  },
  {
   "cell_type": "code",
   "execution_count": 28,
   "outputs": [],
   "source": [
    "import scipy.io\n",
    "import pandas as pd\n",
    "import numpy as np\n",
    "import scipy.io\n",
    "import os\n",
    "from itertools import chain"
   ],
   "metadata": {
    "collapsed": false,
    "ExecuteTime": {
     "end_time": "2023-12-06T22:18:11.100782700Z",
     "start_time": "2023-12-06T22:18:11.090187400Z"
    }
   },
   "id": "8c778ef84bb5b746"
  },
  {
   "cell_type": "markdown",
   "source": [
    "# Extracting File Path\n"
   ],
   "metadata": {
    "collapsed": false
   },
   "id": "3ff09e17a862943e"
  },
  {
   "cell_type": "code",
   "execution_count": 11,
   "outputs": [],
   "source": [
    "# Common part of the file paths\n",
    "base_path = r'file path'\n",
    "\n",
    "# List of rpm values\n",
    "rpm_values = [1797, 1772, 1750,1730]\n",
    "\n",
    "# Create an empty list to store file paths\n",
    "normal_bearing_data_file_paths = []\n",
    "\n",
    "# Iterate over rpm values and create file paths\n",
    "for i, rpm in enumerate(rpm_values, start=97):\n",
    "    folder_name = f'load-hp-{i-97}-rpm-{rpm}'\n",
    "    file_name = f'{i}.mat'\n",
    "    file_path = os.path.join(base_path, folder_name, file_name)\n",
    "    normal_bearing_data_file_paths.append(file_path)"
   ],
   "metadata": {
    "collapsed": false,
    "ExecuteTime": {
     "end_time": "2023-12-06T21:54:23.111545900Z",
     "start_time": "2023-12-06T21:54:23.099295600Z"
    }
   },
   "id": "5e054f0e702676f7"
  },
  {
   "cell_type": "code",
   "execution_count": 47,
   "outputs": [],
   "source": [
    "# Common part of the file paths\n",
    "base_path = r'file path'\n",
    "\n",
    "# Different parts for the file names\n",
    "file_name_parts = [\"B007\", \"B014\", \"B021\",\"B028\",\"IR007\",\"IR014\",\"IR021\",\"IR028\",\"OR007@3\",\"OR007@6\",\"OR007@12\",\"OR014@6\",\"OR021@3\",\"OR021@6\",\"OR021@12\"]\n",
    "\n",
    "# Generate file paths using nested loops\n",
    "all_fault_bearing_data_file_paths = []\n",
    "\n",
    "for part in file_name_parts:\n",
    "    fault_bearing_data_file_paths = []\n",
    "    \n",
    "    for i, rpm in enumerate([1797, 1772, 1750, 1730]):\n",
    "        file_path = os.path.join(base_path, f'load-hp-{i}-rpm-{rpm}', f'historic_{part}_{i}.mat')\n",
    "        fault_bearing_data_file_paths.append(file_path)\n",
    "    \n",
    "    all_fault_bearing_data_file_paths.append(fault_bearing_data_file_paths)\n",
    "\n",
    "# Flatten the nested list\n",
    "all_file_paths_flat = list(chain(*all_fault_bearing_data_file_paths))\n",
    "\n"
   ],
   "metadata": {
    "collapsed": false,
    "ExecuteTime": {
     "end_time": "2023-12-06T22:30:23.814158100Z",
     "start_time": "2023-12-06T22:30:23.804040Z"
    }
   },
   "id": "920a7237fae49fdb"
  },
  {
   "cell_type": "code",
   "execution_count": 50,
   "outputs": [
    {
     "name": "stdout",
     "output_type": "stream",
     "text": [
      "64\n",
      "C:\\Users\\PARAM M. SURELIYA\\Desktop\\normal-baseline-data\\normal-baseline-data\\load-hp-0-rpm-1797\\97.mat\n",
      "C:\\Users\\PARAM M. SURELIYA\\Desktop\\normal-baseline-data\\normal-baseline-data\\load-hp-1-rpm-1772\\98.mat\n",
      "C:\\Users\\PARAM M. SURELIYA\\Desktop\\normal-baseline-data\\normal-baseline-data\\load-hp-2-rpm-1750\\99.mat\n",
      "C:\\Users\\PARAM M. SURELIYA\\Desktop\\normal-baseline-data\\normal-baseline-data\\load-hp-3-rpm-1730\\100.mat\n",
      "C:\\Users\\PARAM M. SURELIYA\\Desktop\\historic-12k-Drive-End-Bearing-Fault-Data\\historic-12k-Drive-End-Bearing-Fault-Data\\load-hp-0-rpm-1797\\historic_B007_0.mat\n",
      "C:\\Users\\PARAM M. SURELIYA\\Desktop\\historic-12k-Drive-End-Bearing-Fault-Data\\historic-12k-Drive-End-Bearing-Fault-Data\\load-hp-1-rpm-1772\\historic_B007_1.mat\n",
      "C:\\Users\\PARAM M. SURELIYA\\Desktop\\historic-12k-Drive-End-Bearing-Fault-Data\\historic-12k-Drive-End-Bearing-Fault-Data\\load-hp-2-rpm-1750\\historic_B007_2.mat\n",
      "C:\\Users\\PARAM M. SURELIYA\\Desktop\\historic-12k-Drive-End-Bearing-Fault-Data\\historic-12k-Drive-End-Bearing-Fault-Data\\load-hp-3-rpm-1730\\historic_B007_3.mat\n",
      "C:\\Users\\PARAM M. SURELIYA\\Desktop\\historic-12k-Drive-End-Bearing-Fault-Data\\historic-12k-Drive-End-Bearing-Fault-Data\\load-hp-0-rpm-1797\\historic_B014_0.mat\n",
      "C:\\Users\\PARAM M. SURELIYA\\Desktop\\historic-12k-Drive-End-Bearing-Fault-Data\\historic-12k-Drive-End-Bearing-Fault-Data\\load-hp-1-rpm-1772\\historic_B014_1.mat\n",
      "C:\\Users\\PARAM M. SURELIYA\\Desktop\\historic-12k-Drive-End-Bearing-Fault-Data\\historic-12k-Drive-End-Bearing-Fault-Data\\load-hp-2-rpm-1750\\historic_B014_2.mat\n",
      "C:\\Users\\PARAM M. SURELIYA\\Desktop\\historic-12k-Drive-End-Bearing-Fault-Data\\historic-12k-Drive-End-Bearing-Fault-Data\\load-hp-3-rpm-1730\\historic_B014_3.mat\n",
      "C:\\Users\\PARAM M. SURELIYA\\Desktop\\historic-12k-Drive-End-Bearing-Fault-Data\\historic-12k-Drive-End-Bearing-Fault-Data\\load-hp-0-rpm-1797\\historic_B021_0.mat\n",
      "C:\\Users\\PARAM M. SURELIYA\\Desktop\\historic-12k-Drive-End-Bearing-Fault-Data\\historic-12k-Drive-End-Bearing-Fault-Data\\load-hp-1-rpm-1772\\historic_B021_1.mat\n",
      "C:\\Users\\PARAM M. SURELIYA\\Desktop\\historic-12k-Drive-End-Bearing-Fault-Data\\historic-12k-Drive-End-Bearing-Fault-Data\\load-hp-2-rpm-1750\\historic_B021_2.mat\n",
      "C:\\Users\\PARAM M. SURELIYA\\Desktop\\historic-12k-Drive-End-Bearing-Fault-Data\\historic-12k-Drive-End-Bearing-Fault-Data\\load-hp-3-rpm-1730\\historic_B021_3.mat\n",
      "C:\\Users\\PARAM M. SURELIYA\\Desktop\\historic-12k-Drive-End-Bearing-Fault-Data\\historic-12k-Drive-End-Bearing-Fault-Data\\load-hp-0-rpm-1797\\historic_B028_0.mat\n",
      "C:\\Users\\PARAM M. SURELIYA\\Desktop\\historic-12k-Drive-End-Bearing-Fault-Data\\historic-12k-Drive-End-Bearing-Fault-Data\\load-hp-1-rpm-1772\\historic_B028_1.mat\n",
      "C:\\Users\\PARAM M. SURELIYA\\Desktop\\historic-12k-Drive-End-Bearing-Fault-Data\\historic-12k-Drive-End-Bearing-Fault-Data\\load-hp-2-rpm-1750\\historic_B028_2.mat\n",
      "C:\\Users\\PARAM M. SURELIYA\\Desktop\\historic-12k-Drive-End-Bearing-Fault-Data\\historic-12k-Drive-End-Bearing-Fault-Data\\load-hp-3-rpm-1730\\historic_B028_3.mat\n",
      "C:\\Users\\PARAM M. SURELIYA\\Desktop\\historic-12k-Drive-End-Bearing-Fault-Data\\historic-12k-Drive-End-Bearing-Fault-Data\\load-hp-0-rpm-1797\\historic_IR007_0.mat\n",
      "C:\\Users\\PARAM M. SURELIYA\\Desktop\\historic-12k-Drive-End-Bearing-Fault-Data\\historic-12k-Drive-End-Bearing-Fault-Data\\load-hp-1-rpm-1772\\historic_IR007_1.mat\n",
      "C:\\Users\\PARAM M. SURELIYA\\Desktop\\historic-12k-Drive-End-Bearing-Fault-Data\\historic-12k-Drive-End-Bearing-Fault-Data\\load-hp-2-rpm-1750\\historic_IR007_2.mat\n",
      "C:\\Users\\PARAM M. SURELIYA\\Desktop\\historic-12k-Drive-End-Bearing-Fault-Data\\historic-12k-Drive-End-Bearing-Fault-Data\\load-hp-3-rpm-1730\\historic_IR007_3.mat\n",
      "C:\\Users\\PARAM M. SURELIYA\\Desktop\\historic-12k-Drive-End-Bearing-Fault-Data\\historic-12k-Drive-End-Bearing-Fault-Data\\load-hp-0-rpm-1797\\historic_IR014_0.mat\n",
      "C:\\Users\\PARAM M. SURELIYA\\Desktop\\historic-12k-Drive-End-Bearing-Fault-Data\\historic-12k-Drive-End-Bearing-Fault-Data\\load-hp-1-rpm-1772\\historic_IR014_1.mat\n",
      "C:\\Users\\PARAM M. SURELIYA\\Desktop\\historic-12k-Drive-End-Bearing-Fault-Data\\historic-12k-Drive-End-Bearing-Fault-Data\\load-hp-2-rpm-1750\\historic_IR014_2.mat\n",
      "C:\\Users\\PARAM M. SURELIYA\\Desktop\\historic-12k-Drive-End-Bearing-Fault-Data\\historic-12k-Drive-End-Bearing-Fault-Data\\load-hp-3-rpm-1730\\historic_IR014_3.mat\n",
      "C:\\Users\\PARAM M. SURELIYA\\Desktop\\historic-12k-Drive-End-Bearing-Fault-Data\\historic-12k-Drive-End-Bearing-Fault-Data\\load-hp-0-rpm-1797\\historic_IR021_0.mat\n",
      "C:\\Users\\PARAM M. SURELIYA\\Desktop\\historic-12k-Drive-End-Bearing-Fault-Data\\historic-12k-Drive-End-Bearing-Fault-Data\\load-hp-1-rpm-1772\\historic_IR021_1.mat\n",
      "C:\\Users\\PARAM M. SURELIYA\\Desktop\\historic-12k-Drive-End-Bearing-Fault-Data\\historic-12k-Drive-End-Bearing-Fault-Data\\load-hp-2-rpm-1750\\historic_IR021_2.mat\n",
      "C:\\Users\\PARAM M. SURELIYA\\Desktop\\historic-12k-Drive-End-Bearing-Fault-Data\\historic-12k-Drive-End-Bearing-Fault-Data\\load-hp-3-rpm-1730\\historic_IR021_3.mat\n",
      "C:\\Users\\PARAM M. SURELIYA\\Desktop\\historic-12k-Drive-End-Bearing-Fault-Data\\historic-12k-Drive-End-Bearing-Fault-Data\\load-hp-0-rpm-1797\\historic_IR028_0.mat\n",
      "C:\\Users\\PARAM M. SURELIYA\\Desktop\\historic-12k-Drive-End-Bearing-Fault-Data\\historic-12k-Drive-End-Bearing-Fault-Data\\load-hp-1-rpm-1772\\historic_IR028_1.mat\n",
      "C:\\Users\\PARAM M. SURELIYA\\Desktop\\historic-12k-Drive-End-Bearing-Fault-Data\\historic-12k-Drive-End-Bearing-Fault-Data\\load-hp-2-rpm-1750\\historic_IR028_2.mat\n",
      "C:\\Users\\PARAM M. SURELIYA\\Desktop\\historic-12k-Drive-End-Bearing-Fault-Data\\historic-12k-Drive-End-Bearing-Fault-Data\\load-hp-3-rpm-1730\\historic_IR028_3.mat\n",
      "C:\\Users\\PARAM M. SURELIYA\\Desktop\\historic-12k-Drive-End-Bearing-Fault-Data\\historic-12k-Drive-End-Bearing-Fault-Data\\load-hp-0-rpm-1797\\historic_OR007@3_0.mat\n",
      "C:\\Users\\PARAM M. SURELIYA\\Desktop\\historic-12k-Drive-End-Bearing-Fault-Data\\historic-12k-Drive-End-Bearing-Fault-Data\\load-hp-1-rpm-1772\\historic_OR007@3_1.mat\n",
      "C:\\Users\\PARAM M. SURELIYA\\Desktop\\historic-12k-Drive-End-Bearing-Fault-Data\\historic-12k-Drive-End-Bearing-Fault-Data\\load-hp-2-rpm-1750\\historic_OR007@3_2.mat\n",
      "C:\\Users\\PARAM M. SURELIYA\\Desktop\\historic-12k-Drive-End-Bearing-Fault-Data\\historic-12k-Drive-End-Bearing-Fault-Data\\load-hp-3-rpm-1730\\historic_OR007@3_3.mat\n",
      "C:\\Users\\PARAM M. SURELIYA\\Desktop\\historic-12k-Drive-End-Bearing-Fault-Data\\historic-12k-Drive-End-Bearing-Fault-Data\\load-hp-0-rpm-1797\\historic_OR007@6_0.mat\n",
      "C:\\Users\\PARAM M. SURELIYA\\Desktop\\historic-12k-Drive-End-Bearing-Fault-Data\\historic-12k-Drive-End-Bearing-Fault-Data\\load-hp-1-rpm-1772\\historic_OR007@6_1.mat\n",
      "C:\\Users\\PARAM M. SURELIYA\\Desktop\\historic-12k-Drive-End-Bearing-Fault-Data\\historic-12k-Drive-End-Bearing-Fault-Data\\load-hp-2-rpm-1750\\historic_OR007@6_2.mat\n",
      "C:\\Users\\PARAM M. SURELIYA\\Desktop\\historic-12k-Drive-End-Bearing-Fault-Data\\historic-12k-Drive-End-Bearing-Fault-Data\\load-hp-3-rpm-1730\\historic_OR007@6_3.mat\n",
      "C:\\Users\\PARAM M. SURELIYA\\Desktop\\historic-12k-Drive-End-Bearing-Fault-Data\\historic-12k-Drive-End-Bearing-Fault-Data\\load-hp-0-rpm-1797\\historic_OR007@12_0.mat\n",
      "C:\\Users\\PARAM M. SURELIYA\\Desktop\\historic-12k-Drive-End-Bearing-Fault-Data\\historic-12k-Drive-End-Bearing-Fault-Data\\load-hp-1-rpm-1772\\historic_OR007@12_1.mat\n",
      "C:\\Users\\PARAM M. SURELIYA\\Desktop\\historic-12k-Drive-End-Bearing-Fault-Data\\historic-12k-Drive-End-Bearing-Fault-Data\\load-hp-2-rpm-1750\\historic_OR007@12_2.mat\n",
      "C:\\Users\\PARAM M. SURELIYA\\Desktop\\historic-12k-Drive-End-Bearing-Fault-Data\\historic-12k-Drive-End-Bearing-Fault-Data\\load-hp-3-rpm-1730\\historic_OR007@12_3.mat\n",
      "C:\\Users\\PARAM M. SURELIYA\\Desktop\\historic-12k-Drive-End-Bearing-Fault-Data\\historic-12k-Drive-End-Bearing-Fault-Data\\load-hp-0-rpm-1797\\historic_OR014@6_0.mat\n",
      "C:\\Users\\PARAM M. SURELIYA\\Desktop\\historic-12k-Drive-End-Bearing-Fault-Data\\historic-12k-Drive-End-Bearing-Fault-Data\\load-hp-1-rpm-1772\\historic_OR014@6_1.mat\n",
      "C:\\Users\\PARAM M. SURELIYA\\Desktop\\historic-12k-Drive-End-Bearing-Fault-Data\\historic-12k-Drive-End-Bearing-Fault-Data\\load-hp-2-rpm-1750\\historic_OR014@6_2.mat\n",
      "C:\\Users\\PARAM M. SURELIYA\\Desktop\\historic-12k-Drive-End-Bearing-Fault-Data\\historic-12k-Drive-End-Bearing-Fault-Data\\load-hp-3-rpm-1730\\historic_OR014@6_3.mat\n",
      "C:\\Users\\PARAM M. SURELIYA\\Desktop\\historic-12k-Drive-End-Bearing-Fault-Data\\historic-12k-Drive-End-Bearing-Fault-Data\\load-hp-0-rpm-1797\\historic_OR021@3_0.mat\n",
      "C:\\Users\\PARAM M. SURELIYA\\Desktop\\historic-12k-Drive-End-Bearing-Fault-Data\\historic-12k-Drive-End-Bearing-Fault-Data\\load-hp-1-rpm-1772\\historic_OR021@3_1.mat\n",
      "C:\\Users\\PARAM M. SURELIYA\\Desktop\\historic-12k-Drive-End-Bearing-Fault-Data\\historic-12k-Drive-End-Bearing-Fault-Data\\load-hp-2-rpm-1750\\historic_OR021@3_2.mat\n",
      "C:\\Users\\PARAM M. SURELIYA\\Desktop\\historic-12k-Drive-End-Bearing-Fault-Data\\historic-12k-Drive-End-Bearing-Fault-Data\\load-hp-3-rpm-1730\\historic_OR021@3_3.mat\n",
      "C:\\Users\\PARAM M. SURELIYA\\Desktop\\historic-12k-Drive-End-Bearing-Fault-Data\\historic-12k-Drive-End-Bearing-Fault-Data\\load-hp-0-rpm-1797\\historic_OR021@6_0.mat\n",
      "C:\\Users\\PARAM M. SURELIYA\\Desktop\\historic-12k-Drive-End-Bearing-Fault-Data\\historic-12k-Drive-End-Bearing-Fault-Data\\load-hp-1-rpm-1772\\historic_OR021@6_1.mat\n",
      "C:\\Users\\PARAM M. SURELIYA\\Desktop\\historic-12k-Drive-End-Bearing-Fault-Data\\historic-12k-Drive-End-Bearing-Fault-Data\\load-hp-2-rpm-1750\\historic_OR021@6_2.mat\n",
      "C:\\Users\\PARAM M. SURELIYA\\Desktop\\historic-12k-Drive-End-Bearing-Fault-Data\\historic-12k-Drive-End-Bearing-Fault-Data\\load-hp-3-rpm-1730\\historic_OR021@6_3.mat\n",
      "C:\\Users\\PARAM M. SURELIYA\\Desktop\\historic-12k-Drive-End-Bearing-Fault-Data\\historic-12k-Drive-End-Bearing-Fault-Data\\load-hp-0-rpm-1797\\historic_OR021@12_0.mat\n",
      "C:\\Users\\PARAM M. SURELIYA\\Desktop\\historic-12k-Drive-End-Bearing-Fault-Data\\historic-12k-Drive-End-Bearing-Fault-Data\\load-hp-1-rpm-1772\\historic_OR021@12_1.mat\n",
      "C:\\Users\\PARAM M. SURELIYA\\Desktop\\historic-12k-Drive-End-Bearing-Fault-Data\\historic-12k-Drive-End-Bearing-Fault-Data\\load-hp-2-rpm-1750\\historic_OR021@12_2.mat\n",
      "C:\\Users\\PARAM M. SURELIYA\\Desktop\\historic-12k-Drive-End-Bearing-Fault-Data\\historic-12k-Drive-End-Bearing-Fault-Data\\load-hp-3-rpm-1730\\historic_OR021@12_3.mat\n"
     ]
    }
   ],
   "source": [
    "# Combine the two lists of file paths\n",
    "all_file_paths = normal_bearing_data_file_paths + all_file_paths_flat\n",
    "print(len(all_file_paths))\n",
    "# Print the resulting file paths\n",
    "for path in all_file_paths:\n",
    "    print(path)\n"
   ],
   "metadata": {
    "collapsed": false,
    "ExecuteTime": {
     "end_time": "2023-12-06T22:31:04.694162200Z",
     "start_time": "2023-12-06T22:31:04.684321700Z"
    }
   },
   "id": "98be6b5b2bb76e76"
  },
  {
   "cell_type": "markdown",
   "source": [
    "# Data Labelling "
   ],
   "metadata": {
    "collapsed": false
   },
   "id": "cd1b31fd3934e483"
  },
  {
   "cell_type": "code",
   "execution_count": 91,
   "outputs": [
    {
     "data": {
      "text/plain": "              Label         0         1         2         3         4  \\\nX097_DE_time      0  0.053197  0.088662  0.099718  0.058621 -0.004590   \nX097_FE_time      0  0.145667  0.097796  0.054856  0.036982  0.054445   \nX098_DE_time      0  0.046104 -0.037134 -0.089496 -0.084906 -0.038594   \nX098_FE_time      0  0.023216  0.081155  0.095331  0.091016  0.038625   \nX099_DE_time      0  0.064254  0.063002 -0.004381 -0.035882 -0.023991   \n...             ...       ...       ...       ...       ...       ...   \nX260_FE_time     11 -0.000205 -0.125738 -0.020545  0.001233 -0.169500   \nX260_BA_time     11  0.096409  0.010703 -0.020078 -0.087396 -0.108118   \nX261_DE_time     11  0.045076  0.117765  0.031269 -0.089339  0.051979   \nX261_FE_time     11  0.118753 -0.079716  0.094920  0.162309 -0.124711   \nX261_BA_time     11  0.061362  0.095725  0.060960  0.026516  0.000040   \n\n                     5         6         7         8  ...  485633  485634  \\\nX097_DE_time -0.056952 -0.071764 -0.058621 -0.046521  ...     NaN     NaN   \nX097_FE_time  0.021162 -0.003698 -0.010684  0.029380  ...     NaN     NaN   \nX098_DE_time  0.025451  0.040680  0.042558  0.038177  ...     NaN     NaN   \nX098_FE_time  0.027120  0.050131  0.045816  0.014176  ...     NaN     NaN   \nX099_DE_time  0.005215  0.030249  0.007510 -0.016481  ...     NaN     NaN   \n...                ...       ...       ...       ...  ...     ...     ...   \nX260_FE_time  0.212440  0.010067 -0.069444  0.151625  ...     NaN     NaN   \nX260_BA_time  0.005754 -0.033598 -0.071542 -0.009013  ...     NaN     NaN   \nX261_DE_time  0.148222  0.140912  0.013401 -0.032487  ...     NaN     NaN   \nX261_FE_time  0.078484  0.059376 -0.001438  0.161693  ...     NaN     NaN   \nX261_BA_time  0.015411  0.041605  0.003259  0.008088  ...     NaN     NaN   \n\n              485635  485636  485637  485638  485639  485640  485641  485642  \nX097_DE_time     NaN     NaN     NaN     NaN     NaN     NaN     NaN     NaN  \nX097_FE_time     NaN     NaN     NaN     NaN     NaN     NaN     NaN     NaN  \nX098_DE_time     NaN     NaN     NaN     NaN     NaN     NaN     NaN     NaN  \nX098_FE_time     NaN     NaN     NaN     NaN     NaN     NaN     NaN     NaN  \nX099_DE_time     NaN     NaN     NaN     NaN     NaN     NaN     NaN     NaN  \n...              ...     ...     ...     ...     ...     ...     ...     ...  \nX260_FE_time     NaN     NaN     NaN     NaN     NaN     NaN     NaN     NaN  \nX260_BA_time     NaN     NaN     NaN     NaN     NaN     NaN     NaN     NaN  \nX261_DE_time     NaN     NaN     NaN     NaN     NaN     NaN     NaN     NaN  \nX261_FE_time     NaN     NaN     NaN     NaN     NaN     NaN     NaN     NaN  \nX261_BA_time     NaN     NaN     NaN     NaN     NaN     NaN     NaN     NaN  \n\n[172 rows x 485644 columns]",
      "text/html": "<div>\n<style scoped>\n    .dataframe tbody tr th:only-of-type {\n        vertical-align: middle;\n    }\n\n    .dataframe tbody tr th {\n        vertical-align: top;\n    }\n\n    .dataframe thead th {\n        text-align: right;\n    }\n</style>\n<table border=\"1\" class=\"dataframe\">\n  <thead>\n    <tr style=\"text-align: right;\">\n      <th></th>\n      <th>Label</th>\n      <th>0</th>\n      <th>1</th>\n      <th>2</th>\n      <th>3</th>\n      <th>4</th>\n      <th>5</th>\n      <th>6</th>\n      <th>7</th>\n      <th>8</th>\n      <th>...</th>\n      <th>485633</th>\n      <th>485634</th>\n      <th>485635</th>\n      <th>485636</th>\n      <th>485637</th>\n      <th>485638</th>\n      <th>485639</th>\n      <th>485640</th>\n      <th>485641</th>\n      <th>485642</th>\n    </tr>\n  </thead>\n  <tbody>\n    <tr>\n      <th>X097_DE_time</th>\n      <td>0</td>\n      <td>0.053197</td>\n      <td>0.088662</td>\n      <td>0.099718</td>\n      <td>0.058621</td>\n      <td>-0.004590</td>\n      <td>-0.056952</td>\n      <td>-0.071764</td>\n      <td>-0.058621</td>\n      <td>-0.046521</td>\n      <td>...</td>\n      <td>NaN</td>\n      <td>NaN</td>\n      <td>NaN</td>\n      <td>NaN</td>\n      <td>NaN</td>\n      <td>NaN</td>\n      <td>NaN</td>\n      <td>NaN</td>\n      <td>NaN</td>\n      <td>NaN</td>\n    </tr>\n    <tr>\n      <th>X097_FE_time</th>\n      <td>0</td>\n      <td>0.145667</td>\n      <td>0.097796</td>\n      <td>0.054856</td>\n      <td>0.036982</td>\n      <td>0.054445</td>\n      <td>0.021162</td>\n      <td>-0.003698</td>\n      <td>-0.010684</td>\n      <td>0.029380</td>\n      <td>...</td>\n      <td>NaN</td>\n      <td>NaN</td>\n      <td>NaN</td>\n      <td>NaN</td>\n      <td>NaN</td>\n      <td>NaN</td>\n      <td>NaN</td>\n      <td>NaN</td>\n      <td>NaN</td>\n      <td>NaN</td>\n    </tr>\n    <tr>\n      <th>X098_DE_time</th>\n      <td>0</td>\n      <td>0.046104</td>\n      <td>-0.037134</td>\n      <td>-0.089496</td>\n      <td>-0.084906</td>\n      <td>-0.038594</td>\n      <td>0.025451</td>\n      <td>0.040680</td>\n      <td>0.042558</td>\n      <td>0.038177</td>\n      <td>...</td>\n      <td>NaN</td>\n      <td>NaN</td>\n      <td>NaN</td>\n      <td>NaN</td>\n      <td>NaN</td>\n      <td>NaN</td>\n      <td>NaN</td>\n      <td>NaN</td>\n      <td>NaN</td>\n      <td>NaN</td>\n    </tr>\n    <tr>\n      <th>X098_FE_time</th>\n      <td>0</td>\n      <td>0.023216</td>\n      <td>0.081155</td>\n      <td>0.095331</td>\n      <td>0.091016</td>\n      <td>0.038625</td>\n      <td>0.027120</td>\n      <td>0.050131</td>\n      <td>0.045816</td>\n      <td>0.014176</td>\n      <td>...</td>\n      <td>NaN</td>\n      <td>NaN</td>\n      <td>NaN</td>\n      <td>NaN</td>\n      <td>NaN</td>\n      <td>NaN</td>\n      <td>NaN</td>\n      <td>NaN</td>\n      <td>NaN</td>\n      <td>NaN</td>\n    </tr>\n    <tr>\n      <th>X099_DE_time</th>\n      <td>0</td>\n      <td>0.064254</td>\n      <td>0.063002</td>\n      <td>-0.004381</td>\n      <td>-0.035882</td>\n      <td>-0.023991</td>\n      <td>0.005215</td>\n      <td>0.030249</td>\n      <td>0.007510</td>\n      <td>-0.016481</td>\n      <td>...</td>\n      <td>NaN</td>\n      <td>NaN</td>\n      <td>NaN</td>\n      <td>NaN</td>\n      <td>NaN</td>\n      <td>NaN</td>\n      <td>NaN</td>\n      <td>NaN</td>\n      <td>NaN</td>\n      <td>NaN</td>\n    </tr>\n    <tr>\n      <th>...</th>\n      <td>...</td>\n      <td>...</td>\n      <td>...</td>\n      <td>...</td>\n      <td>...</td>\n      <td>...</td>\n      <td>...</td>\n      <td>...</td>\n      <td>...</td>\n      <td>...</td>\n      <td>...</td>\n      <td>...</td>\n      <td>...</td>\n      <td>...</td>\n      <td>...</td>\n      <td>...</td>\n      <td>...</td>\n      <td>...</td>\n      <td>...</td>\n      <td>...</td>\n      <td>...</td>\n    </tr>\n    <tr>\n      <th>X260_FE_time</th>\n      <td>11</td>\n      <td>-0.000205</td>\n      <td>-0.125738</td>\n      <td>-0.020545</td>\n      <td>0.001233</td>\n      <td>-0.169500</td>\n      <td>0.212440</td>\n      <td>0.010067</td>\n      <td>-0.069444</td>\n      <td>0.151625</td>\n      <td>...</td>\n      <td>NaN</td>\n      <td>NaN</td>\n      <td>NaN</td>\n      <td>NaN</td>\n      <td>NaN</td>\n      <td>NaN</td>\n      <td>NaN</td>\n      <td>NaN</td>\n      <td>NaN</td>\n      <td>NaN</td>\n    </tr>\n    <tr>\n      <th>X260_BA_time</th>\n      <td>11</td>\n      <td>0.096409</td>\n      <td>0.010703</td>\n      <td>-0.020078</td>\n      <td>-0.087396</td>\n      <td>-0.108118</td>\n      <td>0.005754</td>\n      <td>-0.033598</td>\n      <td>-0.071542</td>\n      <td>-0.009013</td>\n      <td>...</td>\n      <td>NaN</td>\n      <td>NaN</td>\n      <td>NaN</td>\n      <td>NaN</td>\n      <td>NaN</td>\n      <td>NaN</td>\n      <td>NaN</td>\n      <td>NaN</td>\n      <td>NaN</td>\n      <td>NaN</td>\n    </tr>\n    <tr>\n      <th>X261_DE_time</th>\n      <td>11</td>\n      <td>0.045076</td>\n      <td>0.117765</td>\n      <td>0.031269</td>\n      <td>-0.089339</td>\n      <td>0.051979</td>\n      <td>0.148222</td>\n      <td>0.140912</td>\n      <td>0.013401</td>\n      <td>-0.032487</td>\n      <td>...</td>\n      <td>NaN</td>\n      <td>NaN</td>\n      <td>NaN</td>\n      <td>NaN</td>\n      <td>NaN</td>\n      <td>NaN</td>\n      <td>NaN</td>\n      <td>NaN</td>\n      <td>NaN</td>\n      <td>NaN</td>\n    </tr>\n    <tr>\n      <th>X261_FE_time</th>\n      <td>11</td>\n      <td>0.118753</td>\n      <td>-0.079716</td>\n      <td>0.094920</td>\n      <td>0.162309</td>\n      <td>-0.124711</td>\n      <td>0.078484</td>\n      <td>0.059376</td>\n      <td>-0.001438</td>\n      <td>0.161693</td>\n      <td>...</td>\n      <td>NaN</td>\n      <td>NaN</td>\n      <td>NaN</td>\n      <td>NaN</td>\n      <td>NaN</td>\n      <td>NaN</td>\n      <td>NaN</td>\n      <td>NaN</td>\n      <td>NaN</td>\n      <td>NaN</td>\n    </tr>\n    <tr>\n      <th>X261_BA_time</th>\n      <td>11</td>\n      <td>0.061362</td>\n      <td>0.095725</td>\n      <td>0.060960</td>\n      <td>0.026516</td>\n      <td>0.000040</td>\n      <td>0.015411</td>\n      <td>0.041605</td>\n      <td>0.003259</td>\n      <td>0.008088</td>\n      <td>...</td>\n      <td>NaN</td>\n      <td>NaN</td>\n      <td>NaN</td>\n      <td>NaN</td>\n      <td>NaN</td>\n      <td>NaN</td>\n      <td>NaN</td>\n      <td>NaN</td>\n      <td>NaN</td>\n      <td>NaN</td>\n    </tr>\n  </tbody>\n</table>\n<p>172 rows × 485644 columns</p>\n</div>"
     },
     "metadata": {},
     "output_type": "display_data"
    }
   ],
   "source": [
    "# Create an empty list to store DataFrames\n",
    "all_dataframes = []\n",
    "\n",
    "# Iterate over each file path\n",
    "for data_path in all_file_paths:\n",
    "    # Load data from the MAT file\n",
    "    data_dict = scipy.io.loadmat(data_path)\n",
    "\n",
    "    # Extract titles from the keys of the dictionary\n",
    "    titles = list(data_dict.keys())\n",
    "\n",
    "\n",
    "    # Create an empty list to store DataFrames for the current data file\n",
    "    dataframes = []\n",
    "\n",
    "    # Iterate over titles and create DataFrames\n",
    "    for title in titles:\n",
    "        # Check if the value associated with the key is a NumPy array\n",
    "        if isinstance(data_dict[title], np.ndarray):\n",
    "            # Extract the array corresponding to the title\n",
    "            array = data_dict[title]\n",
    "\n",
    "            # Create a DataFrame for the array with the column name as the title\n",
    "            df = pd.DataFrame(array, columns=[title])\n",
    "\n",
    "            # Append the DataFrame to the list for the current data file\n",
    "            dataframes.append(df)\n",
    "\n",
    "    # Combine the DataFrames for the current data file into a single DataFrame\n",
    "    result_df = pd.concat(dataframes, axis=1)\n",
    "    \n",
    "    # Transpose the resulting DataFrame\n",
    "    result_df_transposed = result_df.transpose()\n",
    "\n",
    "    # Append the resulting DataFrame to the list of all DataFrames\n",
    "    all_dataframes.append(result_df_transposed)\n",
    "\n",
    "# Concatenate all DataFrames into a single DataFrame\n",
    "final_result = pd.concat(all_dataframes, axis=0)\n",
    "\n",
    "# List of index labels to remove\n",
    "rows_to_remove = ['ans', 'X097RPM', 'X100RPM', 'X118RPM', 'X119RPM', 'X120RPM', 'X121RPM','X185RPM','X186RPM','X187RPM','X188RPM','X222RPM','X223RPM','X224RPM','X225RPM','X105RPM','X106RPM','X107RPM','X108RPM','X169RPM','X170RPM','X171RPM','X172RPM','X209RPM','X210RPM','X211RPM','X212RPM','X144RPM','X145RPM','X146RPM','X147RPM','X130RPM','X131RPM','X132RPM','X133RPM','X156RPM','X158RPM','X159RPM','X160RPM','X197RPM','X198RPM','X199RPM','X200RPM','X246RPM','X247RPM','X248RPM','X249RPM','X234RPM','X235RPM','X236RPM','X237RPM','X258RPM','X259RPM','X260RPM','X261RPM']\n",
    "\n",
    "# Remove rows with specified index labels\n",
    "final_result = final_result.drop(rows_to_remove, errors='ignore')\n",
    "\n",
    "#Removing duplicate row named X098_FE_time and X098_DE_time\n",
    "final_result = final_result.loc[~final_result.index.duplicated(keep='first')]\n",
    "\n",
    "# Add a new column with the specified pattern of values\n",
    "final_result.insert(0, 'Label', [0] * 8 + [1] * 12 + [2] * 12 + [3] * 12 + [4] * 4 + [5] * 12 + [6] * 12 + [7] * 12 + [8] * 4 + [9] * 36 + [10] * 12 + [11] * 36)\n",
    "\n",
    "\n",
    "# Save DataFrame to CSV file\n",
    "#final_result.to_csv('raw_data.csv', index=True)\n",
    "display(final_result)"
   ],
   "metadata": {
    "collapsed": false,
    "ExecuteTime": {
     "end_time": "2023-12-07T00:16:11.797852500Z",
     "start_time": "2023-12-07T00:16:09.988235800Z"
    }
   },
   "id": "9d265c7df3c13195"
  },
  {
   "cell_type": "markdown",
   "source": [
    "# Data Preparation"
   ],
   "metadata": {
    "collapsed": false
   },
   "id": "82031fd7903d648e"
  },
  {
   "cell_type": "code",
   "execution_count": 93,
   "outputs": [
    {
     "data": {
      "text/plain": "              Non-NaN Count\nX097_DE_time         243939\nX097_FE_time         243939\nX098_DE_time         483904\nX098_FE_time         483904\nX099_DE_time         485064\n...                     ...\nX260_FE_time         100001\nX260_BA_time         100001\nX261_DE_time         100001\nX261_FE_time         100001\nX261_BA_time         100001\n\n[172 rows x 1 columns]",
      "text/html": "<div>\n<style scoped>\n    .dataframe tbody tr th:only-of-type {\n        vertical-align: middle;\n    }\n\n    .dataframe tbody tr th {\n        vertical-align: top;\n    }\n\n    .dataframe thead th {\n        text-align: right;\n    }\n</style>\n<table border=\"1\" class=\"dataframe\">\n  <thead>\n    <tr style=\"text-align: right;\">\n      <th></th>\n      <th>Non-NaN Count</th>\n    </tr>\n  </thead>\n  <tbody>\n    <tr>\n      <th>X097_DE_time</th>\n      <td>243939</td>\n    </tr>\n    <tr>\n      <th>X097_FE_time</th>\n      <td>243939</td>\n    </tr>\n    <tr>\n      <th>X098_DE_time</th>\n      <td>483904</td>\n    </tr>\n    <tr>\n      <th>X098_FE_time</th>\n      <td>483904</td>\n    </tr>\n    <tr>\n      <th>X099_DE_time</th>\n      <td>485064</td>\n    </tr>\n    <tr>\n      <th>...</th>\n      <td>...</td>\n    </tr>\n    <tr>\n      <th>X260_FE_time</th>\n      <td>100001</td>\n    </tr>\n    <tr>\n      <th>X260_BA_time</th>\n      <td>100001</td>\n    </tr>\n    <tr>\n      <th>X261_DE_time</th>\n      <td>100001</td>\n    </tr>\n    <tr>\n      <th>X261_FE_time</th>\n      <td>100001</td>\n    </tr>\n    <tr>\n      <th>X261_BA_time</th>\n      <td>100001</td>\n    </tr>\n  </tbody>\n</table>\n<p>172 rows × 1 columns</p>\n</div>"
     },
     "metadata": {},
     "output_type": "display_data"
    }
   ],
   "source": [
    "# Count non-NaN values in each row\n",
    "non_nan_count_per_row = final_result.count(axis=1)\n",
    "\n",
    "# Create a new DataFrame from the Series\n",
    "count_df = pd.DataFrame({'Non-NaN Count': non_nan_count_per_row})\n",
    "\n",
    "# Display the new DataFrame\n",
    "display(count_df)"
   ],
   "metadata": {
    "collapsed": false,
    "ExecuteTime": {
     "end_time": "2023-12-07T00:22:03.867477400Z",
     "start_time": "2023-12-07T00:22:03.629010700Z"
    }
   },
   "id": "f84e8b5ddfb3ffc1"
  },
  {
   "cell_type": "code",
   "execution_count": 96,
   "outputs": [
    {
     "data": {
      "text/plain": "              Label         0         1         2         3         4  \\\nX097_DE_time    0.0  0.053197  0.088662  0.099718  0.058621 -0.004590   \nX097_DE_time    0.0 -0.054449 -0.035465 -0.011474  0.013560  0.068634   \nX097_DE_time    0.0  0.012100 -0.046313 -0.103473 -0.118911 -0.086158   \nX097_DE_time    0.0  0.009179 -0.034213 -0.038802 -0.016272 -0.000834   \nX097_DE_time    0.0  0.125586  0.157505  0.167727  0.116199  0.035882   \n...             ...       ...       ...       ...       ...       ...   \nX261_BA_time   11.0 -0.009053 -0.031466 -0.054803  0.018228  0.056373   \nX261_BA_time   11.0 -0.059793  0.001006  0.053355  0.076894  0.048325   \nX261_BA_time   11.0  0.041203  0.003340  0.153787  0.012594 -0.203762   \nX261_BA_time   11.0 -0.015894  0.004064  0.061845 -0.007967  0.020964   \nX261_BA_time   11.0 -0.060437 -0.026436  0.008611  0.045790  0.052993   \n\n                     5         6         7         8  ...      2038      2039  \\\nX097_DE_time -0.056952 -0.071764 -0.058621 -0.046521  ... -0.039637 -0.017315   \nX097_DE_time  0.118911  0.145822  0.120162  0.039428  ...  0.034004  0.059664   \nX097_DE_time -0.041723 -0.011474 -0.005841  0.020653  ...  0.054031 -0.028789   \nX097_DE_time -0.006676 -0.001043  0.025660  0.042558  ...  0.006676 -0.040263   \nX097_DE_time -0.072390 -0.164806 -0.182747 -0.154167  ...  0.115573  0.131010   \n...                ...       ...       ...       ...  ...       ...       ...   \nX261_BA_time  0.024907  0.087355  0.097334  0.032230  ... -0.311478 -0.352681   \nX261_BA_time -0.036455 -0.039996 -0.045951 -0.045187  ...  0.059913  0.058666   \nX261_BA_time -0.298320 -0.228548  0.035892  0.106026  ...  0.028287  0.040358   \nX261_BA_time  0.063736  0.024303  0.072226  0.047198  ...  0.073031  0.042249   \nX261_BA_time  0.046836  0.022815  0.000724 -0.004949  ...  0.024102  0.013480   \n\n                  2040      2041      2042      2043      2044      2045  \\\nX097_DE_time -0.023574 -0.034004 -0.044852 -0.038802 -0.016689  0.000209   \nX097_DE_time  0.078857  0.097006  0.121414  0.160425  0.177532  0.153541   \nX097_DE_time -0.104308 -0.149160 -0.147908 -0.128090 -0.072181 -0.017524   \nX097_DE_time -0.057786 -0.032127 -0.007510  0.007719  0.008762  0.019610   \nX097_DE_time  0.136852  0.110983  0.037551 -0.056535 -0.119328 -0.118494   \n...                ...       ...       ...       ...       ...       ...   \nX261_BA_time -0.377467 -0.214666  0.040801  0.221547  0.250075  0.135359   \nX261_BA_time -0.011830  0.020481 -0.036053 -0.091218 -0.012071 -0.031506   \nX261_BA_time  0.007645 -0.023941 -0.034564 -0.029212 -0.011025 -0.009295   \nX261_BA_time  0.056051  0.084297  0.067599  0.117372  0.079026 -0.004547   \nX261_BA_time -0.011266 -0.033276 -0.073554 -0.055568 -0.027281 -0.020320   \n\n                  2046      2047  \nX097_DE_time -0.021905 -0.071138  \nX097_DE_time  0.095129  0.026077  \nX097_DE_time  0.034004  0.091791  \nX097_DE_time  0.046730  0.079691  \nX097_DE_time -0.066548 -0.012726  \n...                ...       ...  \nX261_BA_time  0.153988  0.198612  \nX261_BA_time -0.071462 -0.012836  \nX261_BA_time -0.038708 -0.015089  \nX261_BA_time -0.003179 -0.031586  \nX261_BA_time  0.000724 -0.008973  \n\n[13678 rows x 2049 columns]",
      "text/html": "<div>\n<style scoped>\n    .dataframe tbody tr th:only-of-type {\n        vertical-align: middle;\n    }\n\n    .dataframe tbody tr th {\n        vertical-align: top;\n    }\n\n    .dataframe thead th {\n        text-align: right;\n    }\n</style>\n<table border=\"1\" class=\"dataframe\">\n  <thead>\n    <tr style=\"text-align: right;\">\n      <th></th>\n      <th>Label</th>\n      <th>0</th>\n      <th>1</th>\n      <th>2</th>\n      <th>3</th>\n      <th>4</th>\n      <th>5</th>\n      <th>6</th>\n      <th>7</th>\n      <th>8</th>\n      <th>...</th>\n      <th>2038</th>\n      <th>2039</th>\n      <th>2040</th>\n      <th>2041</th>\n      <th>2042</th>\n      <th>2043</th>\n      <th>2044</th>\n      <th>2045</th>\n      <th>2046</th>\n      <th>2047</th>\n    </tr>\n  </thead>\n  <tbody>\n    <tr>\n      <th>X097_DE_time</th>\n      <td>0.0</td>\n      <td>0.053197</td>\n      <td>0.088662</td>\n      <td>0.099718</td>\n      <td>0.058621</td>\n      <td>-0.004590</td>\n      <td>-0.056952</td>\n      <td>-0.071764</td>\n      <td>-0.058621</td>\n      <td>-0.046521</td>\n      <td>...</td>\n      <td>-0.039637</td>\n      <td>-0.017315</td>\n      <td>-0.023574</td>\n      <td>-0.034004</td>\n      <td>-0.044852</td>\n      <td>-0.038802</td>\n      <td>-0.016689</td>\n      <td>0.000209</td>\n      <td>-0.021905</td>\n      <td>-0.071138</td>\n    </tr>\n    <tr>\n      <th>X097_DE_time</th>\n      <td>0.0</td>\n      <td>-0.054449</td>\n      <td>-0.035465</td>\n      <td>-0.011474</td>\n      <td>0.013560</td>\n      <td>0.068634</td>\n      <td>0.118911</td>\n      <td>0.145822</td>\n      <td>0.120162</td>\n      <td>0.039428</td>\n      <td>...</td>\n      <td>0.034004</td>\n      <td>0.059664</td>\n      <td>0.078857</td>\n      <td>0.097006</td>\n      <td>0.121414</td>\n      <td>0.160425</td>\n      <td>0.177532</td>\n      <td>0.153541</td>\n      <td>0.095129</td>\n      <td>0.026077</td>\n    </tr>\n    <tr>\n      <th>X097_DE_time</th>\n      <td>0.0</td>\n      <td>0.012100</td>\n      <td>-0.046313</td>\n      <td>-0.103473</td>\n      <td>-0.118911</td>\n      <td>-0.086158</td>\n      <td>-0.041723</td>\n      <td>-0.011474</td>\n      <td>-0.005841</td>\n      <td>0.020653</td>\n      <td>...</td>\n      <td>0.054031</td>\n      <td>-0.028789</td>\n      <td>-0.104308</td>\n      <td>-0.149160</td>\n      <td>-0.147908</td>\n      <td>-0.128090</td>\n      <td>-0.072181</td>\n      <td>-0.017524</td>\n      <td>0.034004</td>\n      <td>0.091791</td>\n    </tr>\n    <tr>\n      <th>X097_DE_time</th>\n      <td>0.0</td>\n      <td>0.009179</td>\n      <td>-0.034213</td>\n      <td>-0.038802</td>\n      <td>-0.016272</td>\n      <td>-0.000834</td>\n      <td>-0.006676</td>\n      <td>-0.001043</td>\n      <td>0.025660</td>\n      <td>0.042558</td>\n      <td>...</td>\n      <td>0.006676</td>\n      <td>-0.040263</td>\n      <td>-0.057786</td>\n      <td>-0.032127</td>\n      <td>-0.007510</td>\n      <td>0.007719</td>\n      <td>0.008762</td>\n      <td>0.019610</td>\n      <td>0.046730</td>\n      <td>0.079691</td>\n    </tr>\n    <tr>\n      <th>X097_DE_time</th>\n      <td>0.0</td>\n      <td>0.125586</td>\n      <td>0.157505</td>\n      <td>0.167727</td>\n      <td>0.116199</td>\n      <td>0.035882</td>\n      <td>-0.072390</td>\n      <td>-0.164806</td>\n      <td>-0.182747</td>\n      <td>-0.154167</td>\n      <td>...</td>\n      <td>0.115573</td>\n      <td>0.131010</td>\n      <td>0.136852</td>\n      <td>0.110983</td>\n      <td>0.037551</td>\n      <td>-0.056535</td>\n      <td>-0.119328</td>\n      <td>-0.118494</td>\n      <td>-0.066548</td>\n      <td>-0.012726</td>\n    </tr>\n    <tr>\n      <th>...</th>\n      <td>...</td>\n      <td>...</td>\n      <td>...</td>\n      <td>...</td>\n      <td>...</td>\n      <td>...</td>\n      <td>...</td>\n      <td>...</td>\n      <td>...</td>\n      <td>...</td>\n      <td>...</td>\n      <td>...</td>\n      <td>...</td>\n      <td>...</td>\n      <td>...</td>\n      <td>...</td>\n      <td>...</td>\n      <td>...</td>\n      <td>...</td>\n      <td>...</td>\n      <td>...</td>\n    </tr>\n    <tr>\n      <th>X261_BA_time</th>\n      <td>11.0</td>\n      <td>-0.009053</td>\n      <td>-0.031466</td>\n      <td>-0.054803</td>\n      <td>0.018228</td>\n      <td>0.056373</td>\n      <td>0.024907</td>\n      <td>0.087355</td>\n      <td>0.097334</td>\n      <td>0.032230</td>\n      <td>...</td>\n      <td>-0.311478</td>\n      <td>-0.352681</td>\n      <td>-0.377467</td>\n      <td>-0.214666</td>\n      <td>0.040801</td>\n      <td>0.221547</td>\n      <td>0.250075</td>\n      <td>0.135359</td>\n      <td>0.153988</td>\n      <td>0.198612</td>\n    </tr>\n    <tr>\n      <th>X261_BA_time</th>\n      <td>11.0</td>\n      <td>-0.059793</td>\n      <td>0.001006</td>\n      <td>0.053355</td>\n      <td>0.076894</td>\n      <td>0.048325</td>\n      <td>-0.036455</td>\n      <td>-0.039996</td>\n      <td>-0.045951</td>\n      <td>-0.045187</td>\n      <td>...</td>\n      <td>0.059913</td>\n      <td>0.058666</td>\n      <td>-0.011830</td>\n      <td>0.020481</td>\n      <td>-0.036053</td>\n      <td>-0.091218</td>\n      <td>-0.012071</td>\n      <td>-0.031506</td>\n      <td>-0.071462</td>\n      <td>-0.012836</td>\n    </tr>\n    <tr>\n      <th>X261_BA_time</th>\n      <td>11.0</td>\n      <td>0.041203</td>\n      <td>0.003340</td>\n      <td>0.153787</td>\n      <td>0.012594</td>\n      <td>-0.203762</td>\n      <td>-0.298320</td>\n      <td>-0.228548</td>\n      <td>0.035892</td>\n      <td>0.106026</td>\n      <td>...</td>\n      <td>0.028287</td>\n      <td>0.040358</td>\n      <td>0.007645</td>\n      <td>-0.023941</td>\n      <td>-0.034564</td>\n      <td>-0.029212</td>\n      <td>-0.011025</td>\n      <td>-0.009295</td>\n      <td>-0.038708</td>\n      <td>-0.015089</td>\n    </tr>\n    <tr>\n      <th>X261_BA_time</th>\n      <td>11.0</td>\n      <td>-0.015894</td>\n      <td>0.004064</td>\n      <td>0.061845</td>\n      <td>-0.007967</td>\n      <td>0.020964</td>\n      <td>0.063736</td>\n      <td>0.024303</td>\n      <td>0.072226</td>\n      <td>0.047198</td>\n      <td>...</td>\n      <td>0.073031</td>\n      <td>0.042249</td>\n      <td>0.056051</td>\n      <td>0.084297</td>\n      <td>0.067599</td>\n      <td>0.117372</td>\n      <td>0.079026</td>\n      <td>-0.004547</td>\n      <td>-0.003179</td>\n      <td>-0.031586</td>\n    </tr>\n    <tr>\n      <th>X261_BA_time</th>\n      <td>11.0</td>\n      <td>-0.060437</td>\n      <td>-0.026436</td>\n      <td>0.008611</td>\n      <td>0.045790</td>\n      <td>0.052993</td>\n      <td>0.046836</td>\n      <td>0.022815</td>\n      <td>0.000724</td>\n      <td>-0.004949</td>\n      <td>...</td>\n      <td>0.024102</td>\n      <td>0.013480</td>\n      <td>-0.011266</td>\n      <td>-0.033276</td>\n      <td>-0.073554</td>\n      <td>-0.055568</td>\n      <td>-0.027281</td>\n      <td>-0.020320</td>\n      <td>0.000724</td>\n      <td>-0.008973</td>\n    </tr>\n  </tbody>\n</table>\n<p>13678 rows × 2049 columns</p>\n</div>"
     },
     "metadata": {},
     "output_type": "display_data"
    }
   ],
   "source": [
    "k=0\n",
    "result_df1 = pd.DataFrame()\n",
    "result_df = pd.DataFrame()\n",
    "# Using iterrows to iterate through rows\n",
    "for index, row in final_result.iterrows(): \n",
    "    result_df = pd.DataFrame()\n",
    "    # Accessing the first row\n",
    "    first_row = row\n",
    "    # Remove NaN values from the first row\n",
    "    cleaned_first_row = first_row.dropna()\n",
    "    # Extract the first element of cleaned_first_row\n",
    "    first_element = cleaned_first_row.iloc[0]\n",
    "    # Remove the first element from the cleaned first row\n",
    "    cleaned_first_row = cleaned_first_row.iloc[1:]\n",
    "    #display(cleaned_first_row)\n",
    "\n",
    "\n",
    "    i = 2048\n",
    "    diff = 1434\n",
    "    values_to_append = cleaned_first_row.iloc[:2048]\n",
    "    result_df = pd.concat([result_df, values_to_append], axis=1)\n",
    "    i = i + diff\n",
    "\n",
    "    while i < count_df.iloc[k,0]:\n",
    "        # Take the first 2048 values from the single column\n",
    "        values_to_append = cleaned_first_row.iloc[i - 2048:i].reset_index(drop=True)\n",
    "        # Append the values to the result DataFrame\n",
    "        result_df = pd.concat([result_df, values_to_append], axis=1)\n",
    "\n",
    "        i = i + diff\n",
    "    result_df=result_df.T\n",
    "    new_column_name = 'Label'\n",
    "    result_df[new_column_name] = first_element\n",
    "\n",
    "    # Move the new column to the front\n",
    "    result_df = pd.concat([result_df[new_column_name], result_df.drop(columns=[new_column_name])], axis=1)\n",
    "    result_df = result_df.T\n",
    "    \n",
    "    result_df1 = pd.concat([result_df1, result_df], axis=1)\n",
    "    k=k+1\n",
    "    # Transpose the result DataFrame if needed\n",
    "result_df1=result_df1.T\n",
    "# Display the result DataFrame\n",
    "display(result_df1)\n"
   ],
   "metadata": {
    "collapsed": false,
    "ExecuteTime": {
     "end_time": "2023-12-07T00:30:16.406406200Z",
     "start_time": "2023-12-07T00:29:33.766584100Z"
    }
   },
   "id": "eaee51baaebd36f6"
  },
  {
   "cell_type": "markdown",
   "source": [
    "# Saving DataFrame to CSV file"
   ],
   "metadata": {
    "collapsed": false
   },
   "id": "c8bb7a7b411cabb5"
  },
  {
   "cell_type": "code",
   "execution_count": 97,
   "outputs": [],
   "source": [
    "# Save DataFrame to CSV file\n",
    "result_df1.to_csv('labelled_data.csv', index=True)"
   ],
   "metadata": {
    "collapsed": false,
    "ExecuteTime": {
     "end_time": "2023-12-07T00:40:07.387737Z",
     "start_time": "2023-12-07T00:39:23.363630900Z"
    }
   },
   "id": "5b3381c61aacaf38"
  },
  {
   "cell_type": "code",
   "execution_count": null,
   "outputs": [],
   "source": [],
   "metadata": {
    "collapsed": false
   },
   "id": "fece2008a16454fe"
  }
 ],
 "metadata": {
  "kernelspec": {
   "display_name": "Python 3",
   "language": "python",
   "name": "python3"
  },
  "language_info": {
   "codemirror_mode": {
    "name": "ipython",
    "version": 2
   },
   "file_extension": ".py",
   "mimetype": "text/x-python",
   "name": "python",
   "nbconvert_exporter": "python",
   "pygments_lexer": "ipython2",
   "version": "2.7.6"
  }
 },
 "nbformat": 4,
 "nbformat_minor": 5
}
